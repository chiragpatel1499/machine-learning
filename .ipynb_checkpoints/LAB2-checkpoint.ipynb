{
 "cells": [
  {
   "cell_type": "code",
   "execution_count": 1,
   "metadata": {},
   "outputs": [],
   "source": [
    "'''IMPLEMENT NAIVE BAYES CLASSIFIER'''\n",
    "\n",
    "from sklearn import preprocessing\n",
    "from sklearn.naive_bayes import GaussianNB"
   ]
  },
  {
   "cell_type": "code",
   "execution_count": 2,
   "metadata": {},
   "outputs": [],
   "source": [
    "weather=['Sunny','Sunny','Overcast','Rainy','Rainy','Rainy','Overcast','Sunny','Sunny','Rainy','Sunny','Overcast','Overcast','Rainy']\n",
    "temp=['Hot','Hot','Hot','Mild','Cool','Cool','Cool','Mild','Cool','Mild','Mild','Mild','Hot','Mild']\n",
    "play=['No','No','Yes','Yes','Yes','No','Yes','No','Yes','Yes','Yes','Yes','Yes','No']"
   ]
  },
  {
   "cell_type": "code",
   "execution_count": 3,
   "metadata": {},
   "outputs": [
    {
     "name": "stdout",
     "output_type": "stream",
     "text": [
      "Weather : [2 2 0 1 1 1 0 2 2 1 2 0 0 1]\n",
      "Temp : [1 1 1 2 0 0 0 2 0 2 2 2 1 2]\n",
      "Play : [0 0 1 1 1 0 1 0 1 1 1 1 1 0]\n"
     ]
    }
   ],
   "source": [
    "le = preprocessing.LabelEncoder()\n",
    "w_encoded=le.fit_transform(weather)\n",
    "print(\"Weather :\",w_encoded)\n",
    "t_encoded=le.fit_transform(temp)\n",
    "print(\"Temp :\",t_encoded)\n",
    "p_encoded=le.fit_transform(play)\n",
    "print(\"Play :\",p_encoded)"
   ]
  },
  {
   "cell_type": "code",
   "execution_count": 4,
   "metadata": {},
   "outputs": [],
   "source": [
    "features=tuple(zip(w_encoded,t_encoded))"
   ]
  },
  {
   "cell_type": "code",
   "execution_count": 5,
   "metadata": {},
   "outputs": [
    {
     "data": {
      "text/plain": [
       "GaussianNB(priors=None, var_smoothing=1e-09)"
      ]
     },
     "execution_count": 5,
     "metadata": {},
     "output_type": "execute_result"
    }
   ],
   "source": [
    "model=GaussianNB()\n",
    "model.fit(features,p_encoded)"
   ]
  },
  {
   "cell_type": "code",
   "execution_count": 6,
   "metadata": {},
   "outputs": [
    {
     "name": "stdout",
     "output_type": "stream",
     "text": [
      "Predicted Value : [0]\n"
     ]
    }
   ],
   "source": [
    "predicted= model.predict([[2,2]])\n",
    "print(\"Predicted Value :\",predicted)"
   ]
  },
  {
   "cell_type": "code",
   "execution_count": 7,
   "metadata": {},
   "outputs": [
    {
     "name": "stdout",
     "output_type": "stream",
     "text": [
      "Predicted Value : [1]\n",
      "Predicted Value : [0]\n"
     ]
    }
   ],
   "source": [
    "'''predict value for : Will you play if the temperature is 'Hot' and weather is 'overcast'?'''\n",
    "predicted= model.predict([[0,1]])\n",
    "print(\"Predicted Value :\",predicted)\n",
    "\n",
    "'''predict value for : Will you play if the temperature is 'Mild' and weather is 'Sunny'?'''\n",
    "predicted= model.predict([[2,2]])\n",
    "print(\"Predicted Value :\",predicted)\n"
   ]
  },
  {
   "cell_type": "code",
   "execution_count": 8,
   "metadata": {},
   "outputs": [
    {
     "name": "stdout",
     "output_type": "stream",
     "text": [
      "Outlook : [1 1 0 2 2 2 0 1 1 2 1 0 0 2]\n",
      "Temp : [1 1 1 2 0 0 0 2 0 2 2 2 1 2]\n",
      "Humidity : [0 0 0 0 1 1 1 0 1 1 1 0 1 0]\n",
      "Wind : [0 1 0 0 0 1 1 0 0 0 1 1 0 1]\n",
      "Play : [0 0 1 1 1 0 1 0 1 1 1 1 1 0]\n"
     ]
    }
   ],
   "source": [
    "'''NAIVE BAYES CLASSIFIR WITH CLASSROOM ASSIGNMENT'''\n",
    "Outlook = ['Rainy', 'Rainy', 'Overcast', 'Sunny', 'Sunny', 'Sunny', 'Overcast', 'Rainy', 'Rainy', 'Sunny', 'Rainy',\n",
    "'Overcast', 'Overcast', 'Sunny']\n",
    "Temperature = ['Hot', 'Hot', 'Hot', 'Mild', 'Cool', 'Cool', 'Cool', 'Mild', 'Cool', 'Mild', 'Mild', 'Mild', 'Hot', 'Mild']\n",
    "Humidity = ['High', 'High', 'High', 'High', 'Normal', 'Normal', 'Normal', 'High', 'Normal', 'Normal', 'Normal', 'High', 'Normal', 'High']\n",
    "Wind = ['False', 'True', 'False', 'False', 'False', 'True', 'True', 'False', 'False', 'False', 'True', 'True', 'False', 'True']\n",
    "\n",
    "Play = [ 'No', 'No', 'Yes', 'Yes', 'Yes', 'No', 'Yes', 'No', 'Yes', 'Yes', 'Yes', 'Yes', 'Yes', 'No']\n",
    "\n",
    "le = preprocessing.LabelEncoder()\n",
    "o_encoded=le.fit_transform(Outlook)\n",
    "print(\"Outlook :\",o_encoded)\n",
    "\n",
    "t_encoded=le.fit_transform(Temperature)\n",
    "print(\"Temp :\",t_encoded)\n",
    "\n",
    "h_encoded=le.fit_transform(Humidity)\n",
    "print(\"Humidity :\",h_encoded)\n",
    "\n",
    "w_encoded=le.fit_transform(Wind)\n",
    "print(\"Wind :\",w_encoded)\n",
    "\n",
    "p_encoded=le.fit_transform(Play)\n",
    "print(\"Play :\",p_encoded)"
   ]
  },
  {
   "cell_type": "code",
   "execution_count": 11,
   "metadata": {},
   "outputs": [
    {
     "data": {
      "text/plain": [
       "GaussianNB(priors=None, var_smoothing=1e-09)"
      ]
     },
     "execution_count": 11,
     "metadata": {},
     "output_type": "execute_result"
    }
   ],
   "source": [
    "features=tuple(zip(o_encoded,t_encoded,h_encoded,w_encoded))\n",
    "model=GaussianNB()\n",
    "model.fit(features,p_encoded)"
   ]
  },
  {
   "cell_type": "code",
   "execution_count": 13,
   "metadata": {},
   "outputs": [
    {
     "name": "stdout",
     "output_type": "stream",
     "text": [
      "Predicted Value : [1]\n",
      "Predicted Value : [0]\n"
     ]
    }
   ],
   "source": [
    "'''Predict value : What will be the value of Play, if Outlook is ’Rainy’, Temperature is ’Mild’, Humidity =\n",
    "’Normal’, and Wind = ’False’?'''\n",
    "predicted= model.predict([[1,2,1,0]])\n",
    "print(\"Predicted Value :\",predicted)\n",
    "\n",
    "'''Predict value : What will be the value of Play, if Outlook is ’Sunny’, Temeprature is ’Cool’, Humidity =\n",
    "’High’, and Wind = ’True’?'''\n",
    "predicted= model.predict([[2,0,0,1]])\n",
    "print(\"Predicted Value :\",predicted)\n"
   ]
  },
  {
   "cell_type": "code",
   "execution_count": null,
   "metadata": {},
   "outputs": [],
   "source": []
  },
  {
   "cell_type": "code",
   "execution_count": 24,
   "metadata": {},
   "outputs": [
    {
     "name": "stdout",
     "output_type": "stream",
     "text": [
      "Features:  ['alcohol', 'malic_acid', 'ash', 'alcalinity_of_ash', 'magnesium', 'total_phenols', 'flavanoids', 'nonflavanoid_phenols', 'proanthocyanins', 'color_intensity', 'hue', 'od280/od315_of_diluted_wines', 'proline']\n",
      "Labels:  ['class_0' 'class_1' 'class_2']\n"
     ]
    }
   ],
   "source": [
    "'''PROCEDURE (WINE DATASET)'''\n",
    "from sklearn import datasets\n",
    "from sklearn.model_selection import train_test_split\n",
    "from sklearn import metrics\n",
    "from sklearn.metrics import confusion_matrix\n",
    "\n",
    "wine = datasets.load_wine()\n",
    "\n",
    "print(\"Features: \", wine.feature_names)\n",
    "print(\"Labels: \", wine.target_names)"
   ]
  },
  {
   "cell_type": "code",
   "execution_count": 25,
   "metadata": {},
   "outputs": [
    {
     "data": {
      "text/plain": [
       "(178, 13)"
      ]
     },
     "execution_count": 25,
     "metadata": {},
     "output_type": "execute_result"
    }
   ],
   "source": [
    "wine.data.shape"
   ]
  },
  {
   "cell_type": "code",
   "execution_count": 26,
   "metadata": {},
   "outputs": [
    {
     "name": "stdout",
     "output_type": "stream",
     "text": [
      "Accuracy: 0.8888888888888888\n"
     ]
    },
    {
     "data": {
      "text/plain": [
       "array([[14,  1,  0],\n",
       "       [ 2, 22,  3],\n",
       "       [ 0,  0, 12]])"
      ]
     },
     "execution_count": 26,
     "metadata": {},
     "output_type": "execute_result"
    }
   ],
   "source": [
    "    data_train,data_test,target_train,target_test=train_test_split(wine.data,wine.target,test_size=0.30,random_state=10)\n",
    "    gnb=GaussianNB()\n",
    "    gnb.fit(data_train,target_train)\n",
    "    \n",
    "    target_pred=gnb.predict(data_test)\n",
    "    print(\"Accuracy:\",metrics.accuracy_score(target_test, target_pred))\n",
    "    \n",
    "    \n",
    "    confusion_matrix(target_test, target_pred)"
   ]
  },
  {
   "cell_type": "code",
   "execution_count": null,
   "metadata": {},
   "outputs": [],
   "source": []
  },
  {
   "cell_type": "code",
   "execution_count": 27,
   "metadata": {},
   "outputs": [
    {
     "name": "stdout",
     "output_type": "stream",
     "text": [
      "Features:  ['sepal length (cm)', 'sepal width (cm)', 'petal length (cm)', 'petal width (cm)']\n",
      "Labels:  ['setosa' 'versicolor' 'virginica']\n"
     ]
    }
   ],
   "source": [
    "'''Excercise 1'''\n",
    "from sklearn import datasets\n",
    "from sklearn.model_selection import train_test_split\n",
    "from sklearn import metrics\n",
    "from sklearn.metrics import confusion_matrix\n",
    "\n",
    "iris = datasets.load_iris()\n",
    "\n",
    "print(\"Features: \", iris.feature_names)\n",
    "print(\"Labels: \", iris.target_names)\n"
   ]
  },
  {
   "cell_type": "code",
   "execution_count": 28,
   "metadata": {},
   "outputs": [
    {
     "data": {
      "text/plain": [
       "(150, 4)"
      ]
     },
     "execution_count": 28,
     "metadata": {},
     "output_type": "execute_result"
    }
   ],
   "source": [
    "iris.data.shape"
   ]
  },
  {
   "cell_type": "code",
   "execution_count": 30,
   "metadata": {},
   "outputs": [
    {
     "name": "stdout",
     "output_type": "stream",
     "text": [
      "Accuracy: 1.0\n"
     ]
    },
    {
     "data": {
      "text/plain": [
       "array([[14,  0,  0],\n",
       "       [ 0, 17,  0],\n",
       "       [ 0,  0, 14]])"
      ]
     },
     "execution_count": 30,
     "metadata": {},
     "output_type": "execute_result"
    }
   ],
   "source": [
    "    data_train,data_test,target_train,target_test=train_test_split(iris.data,iris.target,test_size=0.30,random_state=10)\n",
    "    gnb=GaussianNB()\n",
    "    gnb.fit(data_train,target_train)\n",
    "    \n",
    "    target_pred=gnb.predict(data_test)\n",
    "    print(\"Accuracy:\",metrics.accuracy_score(target_test, target_pred))\n",
    "    \n",
    "    \n",
    "    confusion_matrix(target_test, target_pred)"
   ]
  },
  {
   "cell_type": "code",
   "execution_count": null,
   "metadata": {},
   "outputs": [],
   "source": []
  },
  {
   "cell_type": "code",
   "execution_count": 36,
   "metadata": {},
   "outputs": [
    {
     "name": "stdout",
     "output_type": "stream",
     "text": [
      "Features:  ['sepal length (cm)', 'sepal width (cm)', 'petal length (cm)', 'petal width (cm)']\n",
      "Labels:  ['setosa' 'versicolor' 'virginica']\n"
     ]
    }
   ],
   "source": [
    "'''Excercise 2'''\n",
    "import numpy as np\n",
    "from sklearn import datasets\n",
    "from sklearn.model_selection import train_test_split\n",
    "from sklearn import metrics\n",
    "from sklearn.metrics import confusion_matrix\n",
    "\n",
    "iris = datasets.load_iris()\n",
    "\n",
    "print(\"Features: \", iris.feature_names)\n",
    "print(\"Labels: \", iris.target_names)"
   ]
  },
  {
   "cell_type": "code",
   "execution_count": 39,
   "metadata": {},
   "outputs": [
    {
     "name": "stdout",
     "output_type": "stream",
     "text": [
      "Accuracy: 0.9666666666666667\n"
     ]
    },
    {
     "data": {
      "text/plain": [
       "array([[13,  1],\n",
       "       [ 0, 16]])"
      ]
     },
     "execution_count": 39,
     "metadata": {},
     "output_type": "execute_result"
    }
   ],
   "source": [
    "t1=iris.target\n",
    "t=t1[t1>0]\n",
    "d=iris.data[t1>0]\n",
    "data_train,data_test,target_train,target_test=train_test_split(d,t,test_size=0.30,random_state=10)\n",
    "gnb=GaussianNB()\n",
    "gnb.fit(data_train,target_train)\n",
    "    \n",
    "target_pred=gnb.predict(data_test)\n",
    "print(\"Accuracy:\",metrics.accuracy_score(target_test, target_pred))\n",
    "\n",
    "confusion_matrix(target_test, target_pred)"
   ]
  }
 ],
 "metadata": {
  "kernelspec": {
   "display_name": "Python 3",
   "language": "python",
   "name": "python3"
  },
  "language_info": {
   "codemirror_mode": {
    "name": "ipython",
    "version": 3
   },
   "file_extension": ".py",
   "mimetype": "text/x-python",
   "name": "python",
   "nbconvert_exporter": "python",
   "pygments_lexer": "ipython3",
   "version": "3.7.3"
  }
 },
 "nbformat": 4,
 "nbformat_minor": 2
}
