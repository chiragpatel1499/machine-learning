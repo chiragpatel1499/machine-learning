{
 "cells": [
  {
   "cell_type": "code",
   "execution_count": 1,
   "metadata": {
    "colab": {},
    "colab_type": "code",
    "id": "7ca03qM0mnnJ"
   },
   "outputs": [],
   "source": [
    "import numpy as np\n",
    "import tensorflow as tf\n",
    "import matplotlib.pyplot as plt"
   ]
  },
  {
   "cell_type": "code",
   "execution_count": 2,
   "metadata": {
    "colab": {},
    "colab_type": "code",
    "id": "IJk1Yzqvn7sR"
   },
   "outputs": [],
   "source": [
    "#Generating random linear data\n",
    "#There will be 50 data points ranging from 0 to 50\n",
    "x=np.linspace(0,50,50)\n",
    "y=np.linspace(0,50,50)\n",
    "\n",
    "# Adding noise to the random linear data\n",
    "x+=np.random.uniform(-4,4,50)\n",
    "y+=np.random.uniform(-4,4,50)\n",
    "n=len(x)"
   ]
  },
  {
   "cell_type": "code",
   "execution_count": 3,
   "metadata": {
    "colab": {
     "base_uri": "https://localhost:8080/",
     "height": 295
    },
    "colab_type": "code",
    "executionInfo": {
     "elapsed": 3838,
     "status": "ok",
     "timestamp": 1566644808860,
     "user": {
      "displayName": "NAITIK PRAJAPATI",
      "photoUrl": "",
      "userId": "00936705742447887252"
     },
     "user_tz": -330
    },
    "id": "b-e4RmZ5rbiw",
    "outputId": "65597526-7ef2-4941-8498-03e40401af31"
   },
   "outputs": [
    {
     "data": {
      "image/png": "[encoded data removed]",
      "text/plain": [
       "<Figure size 432x288 with 1 Axes>"
      ]
     },
     "metadata": {
      "needs_background": "light"
     },
     "output_type": "display_data"
    }
   ],
   "source": [
    "# Plot of Training Data\n",
    "plt.scatter(x,y,color='blue')\n",
    "plt.xlabel('x')\n",
    "plt.ylabel('y')\n",
    "plt.title(\"Training Data\")\n",
    "plt.show()"
   ]
  },
  {
   "cell_type": "code",
   "execution_count": 4,
   "metadata": {
    "colab": {},
    "colab_type": "code",
    "id": "1gj7sQ_qr_Xq"
   },
   "outputs": [],
   "source": [
    "X=tf.placeholder(tf.float32)\n",
    "Y=tf.placeholder(tf.float32)"
   ]
  },
  {
   "cell_type": "code",
   "execution_count": 5,
   "metadata": {
    "colab": {},
    "colab_type": "code",
    "id": "Pacdpgh_tBPk"
   },
   "outputs": [],
   "source": [
    "W=tf.Variable(np.random.randn(),name=\"W\")\n",
    "b=tf.Variable(np.random.randn(),name=\"b\")\n",
    "learning_rate=0.01\n",
    "training_epochs=1500"
   ]
  },
  {
   "cell_type": "code",
   "execution_count": 6,
   "metadata": {
    "colab": {
     "base_uri": "https://localhost:8080/",
     "height": 105
    },
    "colab_type": "code",
    "executionInfo": {
     "elapsed": 5649,
     "status": "ok",
     "timestamp": 1566644810699,
     "user": {
      "displayName": "NAITIK PRAJAPATI",
      "photoUrl": "",
      "userId": "00936705742447887252"
     },
     "user_tz": -330
    },
    "id": "UtWfxRWjurVL",
    "outputId": "6cafbc12-e656-4d70-dcaa-ba0a1d4a5709"
   },
   "outputs": [
    {
     "name": "stderr",
     "output_type": "stream",
     "text": [
      "WARNING: Logging before flag parsing goes to stderr.\n",
      "W0825 23:58:41.612272 140680292288320 deprecation.py:323] From <ipython-input-6-3d89816549bb>:5: div (from tensorflow.python.ops.math_ops) is deprecated and will be removed in a future version.\n",
      "Instructions for updating:\n",
      "Deprecated in favor of operator or tf.math.divide.\n"
     ]
    }
   ],
   "source": [
    "#Hypothesis\n",
    "y_pred=tf.add(tf.multiply(X,W),b)\n",
    "\n",
    "# Mean Squared Error Cost Function\n",
    "cost = tf.div(tf.reduce_sum(tf.square(y_pred-Y)),(2 * n))\n",
    "\n",
    "# Gradient Descent Optimizer\n",
    "optimizer = tf.train.GradientDescentOptimizer(learning_rate).minimize(cost)\n",
    "\n",
    "init = tf.global_variables_initializer()\n"
   ]
  },
  {
   "cell_type": "code",
   "execution_count": 7,
   "metadata": {
    "colab": {
     "base_uri": "https://localhost:8080/",
     "height": 527
    },
    "colab_type": "code",
    "executionInfo": {
     "elapsed": 28562,
     "status": "ok",
     "timestamp": 1566644833623,
     "user": {
      "displayName": "NAITIK PRAJAPATI",
      "photoUrl": "",
      "userId": "00936705742447887252"
     },
     "user_tz": -330
    },
    "id": "pc9YigQmwXzd",
    "outputId": "4fe1bcc7-fb9c-4c8b-979b-096f94a338ab"
   },
   "outputs": [
    {
     "name": "stdout",
     "output_type": "stream",
     "text": [
      "('Epoch', 50, ': cost =', 6.543261, 'W =', 0.9649837, 'b =', 0.84734225)\n",
      "('Epoch', 100, ': cost =', 6.547008, 'W =', 0.96442777, 'b =', 0.87471145)\n",
      "('Epoch', 150, ': cost =', 6.5505924, 'W =', 0.9639272, 'b =', 0.89934903)\n",
      "('Epoch', 200, ': cost =', 6.553989, 'W =', 0.96347666, 'b =', 0.9215252)\n",
      "('Epoch', 250, ': cost =', 6.5571866, 'W =', 0.96307117, 'b =', 0.9414879)\n",
      "('Epoch', 300, ': cost =', 6.5601783, 'W =', 0.96270615, 'b =', 0.9594561)\n",
      "('Epoch', 350, ': cost =', 6.5629606, 'W =', 0.9623775, 'b =', 0.97563154)\n",
      "('Epoch', 400, ': cost =', 6.565541, 'W =', 0.96208173, 'b =', 0.99019253)\n",
      "('Epoch', 450, ': cost =', 6.567922, 'W =', 0.9618154, 'b =', 1.0032998)\n",
      "('Epoch', 500, ': cost =', 6.570116, 'W =', 0.96157575, 'b =', 1.0150999)\n",
      "('Epoch', 550, ': cost =', 6.572129, 'W =', 0.9613599, 'b =', 1.0257221)\n",
      "('Epoch', 600, ': cost =', 6.5739713, 'W =', 0.9611657, 'b =', 1.0352817)\n",
      "('Epoch', 650, ': cost =', 6.5756574, 'W =', 0.96099097, 'b =', 1.043885)\n",
      "('Epoch', 700, ': cost =', 6.5771966, 'W =', 0.9608336, 'b =', 1.0516336)\n",
      "('Epoch', 750, ': cost =', 6.578597, 'W =', 0.960692, 'b =', 1.0586028)\n",
      "('Epoch', 800, ': cost =', 6.5798717, 'W =', 0.96056443, 'b =', 1.0648812)\n",
      "('Epoch', 850, ': cost =', 6.5810313, 'W =', 0.9604496, 'b =', 1.0705339)\n",
      "('Epoch', 900, ': cost =', 6.582086, 'W =', 0.96034616, 'b =', 1.0756232)\n",
      "('Epoch', 950, ': cost =', 6.58304, 'W =', 0.9602531, 'b =', 1.0802039)\n",
      "('Epoch', 1000, ': cost =', 6.5839047, 'W =', 0.9601695, 'b =', 1.0843226)\n",
      "('Epoch', 1050, ': cost =', 6.5846896, 'W =', 0.9600941, 'b =', 1.0880331)\n",
      "('Epoch', 1100, ': cost =', 6.5853996, 'W =', 0.96002614, 'b =', 1.0913777)\n",
      "('Epoch', 1150, ': cost =', 6.586042, 'W =', 0.959965, 'b =', 1.0943846)\n",
      "('Epoch', 1200, ': cost =', 6.586621, 'W =', 0.95991015, 'b =', 1.0970857)\n",
      "('Epoch', 1250, ': cost =', 6.587145, 'W =', 0.9598607, 'b =', 1.0995214)\n",
      "('Epoch', 1300, ': cost =', 6.5876193, 'W =', 0.9598161, 'b =', 1.101718)\n",
      "('Epoch', 1350, ': cost =', 6.5880456, 'W =', 0.9597761, 'b =', 1.103684)\n",
      "('Epoch', 1400, ': cost =', 6.5884323, 'W =', 0.95974004, 'b =', 1.1054606)\n",
      "('Epoch', 1450, ': cost =', 6.58878, 'W =', 0.9597076, 'b =', 1.1070558)\n",
      "('Epoch', 1500, ': cost =', 6.589097, 'W =', 0.9596781, 'b =', 1.1085069)\n"
     ]
    }
   ],
   "source": [
    "with tf.Session() as sess:\n",
    "  merged = tf.summary.merge_all()\n",
    "  writer = tf.summary.FileWriter(\"logs\", sess.graph)\n",
    "  # Initializing the Variables\n",
    "  sess.run(init)\n",
    "  # Iterating through all the epochs\n",
    "  for epoch in range(training_epochs):\n",
    "  # Feeding each data point into the optimizer using Feed Dictionary\n",
    "    for (_x, _y) in zip(x, y):\n",
    "      sess.run(optimizer, feed_dict = {X : _x, Y : _y})\n",
    "# Displaying the result after every 50 epochs\n",
    "    if (epoch+1) % 50 == 0:\n",
    "# Calculating the cost a every epoch\n",
    "      c = sess.run(cost, feed_dict = {X : x, Y : y})\n",
    "      print(\"Epoch\", (epoch+1), \": cost =\", c, \"W =\", sess.run(W), \"b =\", sess.run(b))\n",
    "  training_cost = sess.run(cost, feed_dict ={X: x, Y: y})\n",
    "  weight = sess.run(W)\n",
    "  bias = sess.run(b)  "
   ]
  },
  {
   "cell_type": "code",
   "execution_count": 8,
   "metadata": {
    "colab": {
     "base_uri": "https://localhost:8080/",
     "height": 51
    },
    "colab_type": "code",
    "executionInfo": {
     "elapsed": 28555,
     "status": "ok",
     "timestamp": 1566644833625,
     "user": {
      "displayName": "NAITIK PRAJAPATI",
      "photoUrl": "",
      "userId": "00936705742447887252"
     },
     "user_tz": -330
    },
    "id": "0Y2Rj6FZwM-s",
    "outputId": "ae16d774-eeeb-4918-ecbe-6034de63393e"
   },
   "outputs": [
    {
     "name": "stdout",
     "output_type": "stream",
     "text": [
      "('Training cost =', 6.589097, 'Weight =', 0.9596781, 'bias =', 1.1085069, '\\n')\n"
     ]
    }
   ],
   "source": [
    "predictions = weight * x + bias\n",
    "print(\"Training cost =\", training_cost, \"Weight =\", weight, \"bias =\", bias, '\\n')"
   ]
  },
  {
   "cell_type": "code",
   "execution_count": 9,
   "metadata": {
    "colab": {
     "base_uri": "https://localhost:8080/",
     "height": 281
    },
    "colab_type": "code",
    "executionInfo": {
     "elapsed": 28547,
     "status": "ok",
     "timestamp": 1566644833626,
     "user": {
      "displayName": "NAITIK PRAJAPATI",
      "photoUrl": "",
      "userId": "00936705742447887252"
     },
     "user_tz": -330
    },
    "id": "j4vls4ih0IBB",
    "outputId": "09c3bf52-8a41-4962-8318-6abafed3eeb4"
   },
   "outputs": [
    {
     "data": {
      "image/png": "[encoded data removed]",
      "text/plain": [
       "<Figure size 432x288 with 1 Axes>"
      ]
     },
     "metadata": {
      "needs_background": "light"
     },
     "output_type": "display_data"
    }
   ],
   "source": [
    "plt.plot(x, y,'ro', color = 'blue', label ='Original data')\n",
    "plt.plot(x, predictions, color = 'red', label ='Fitted line')\n",
    "plt.title('Linear Regression Result')\n",
    "plt.legend()\n",
    "plt.show()"
   ]
  },
  {
   "cell_type": "code",
   "execution_count": 10,
   "metadata": {
    "colab": {
     "base_uri": "https://localhost:8080/",
     "height": 34
    },
    "colab_type": "code",
    "executionInfo": {
     "elapsed": 28939,
     "status": "ok",
     "timestamp": 1566644834028,
     "user": {
      "displayName": "NAITIK PRAJAPATI",
      "photoUrl": "",
      "userId": "00936705742447887252"
     },
     "user_tz": -330
    },
    "id": "7j57d3Ql0Led",
    "outputId": "c92b4cb4-e422-4a6c-81c9-ed2be33d60ef"
   },
   "outputs": [
    {
     "name": "stdout",
     "output_type": "stream",
     "text": [
      "('R2 value:', 0.9403431869240653)\n"
     ]
    }
   ],
   "source": [
    "from sklearn.metrics import r2_score\n",
    "R2 = r2_score(y, predictions, multioutput='variance_weighted')\n",
    "print(\"R2 value:\",R2)"
   ]
  },
  {
   "cell_type": "code",
   "execution_count": 11,
   "metadata": {
    "colab": {
     "base_uri": "https://localhost:8080/",
     "height": 187
    },
    "colab_type": "code",
    "executionInfo": {
     "elapsed": 28934,
     "status": "ok",
     "timestamp": 1566644834032,
     "user": {
      "displayName": "NAITIK PRAJAPATI",
      "photoUrl": "",
      "userId": "00936705742447887252"
     },
     "user_tz": -330
    },
    "id": "kTfShuSZ0TL4",
    "outputId": "a6473932-52fe-49e6-fca4-894b13f8cafa"
   },
   "outputs": [
    {
     "name": "stdout",
     "output_type": "stream",
     "text": [
      "('Training cost =', 6.589097, 'Predictions :', 4.934743556320667, '\\n')\n",
      "('Training cost =', 6.589097, 'Predictions :', 19.56791543036699, '\\n')\n",
      "('Training cost =', 6.589097, 'Predictions :', 23.27515198266506, '\\n')\n",
      "('Training cost =', 6.589097, 'Predictions :', 36.13675805926323, '\\n')\n",
      "('Training cost =', 6.589097, 'Predictions :', 22.955579170882704, '\\n')\n"
     ]
    }
   ],
   "source": [
    "'''Predict Y value for X'''\n",
    "data=[3.987, 19.235, 23.098, 36.5, 22.765]\n",
    "for x1 in data:\n",
    "  predictions = weight * x1 + bias\n",
    "  print(\"Training cost =\", training_cost, \"Predictions :\",predictions,'\\n')"
   ]
  },
  {
   "cell_type": "code",
   "execution_count": 12,
   "metadata": {
    "colab": {
     "base_uri": "https://localhost:8080/",
     "height": 272
    },
    "colab_type": "code",
    "executionInfo": {
     "elapsed": 41199,
     "status": "ok",
     "timestamp": 1566644846305,
     "user": {
      "displayName": "NAITIK PRAJAPATI",
      "photoUrl": "",
      "userId": "00936705742447887252"
     },
     "user_tz": -330
    },
    "id": "JO7jXkcX1Kp0",
    "outputId": "3297b447-2e1b-4c33-9615-d4457e1bc8bd"
   },
   "outputs": [
    {
     "name": "stdout",
     "output_type": "stream",
     "text": [
      "('Epoch', 50, ': cost =', 6.543261, 'W =', 0.9649837, 'b =', 0.84734225)\n",
      "('Epoch', 100, ': cost =', 6.547008, 'W =', 0.96442777, 'b =', 0.87471145)\n",
      "('Epoch', 150, ': cost =', 6.5505924, 'W =', 0.9639272, 'b =', 0.89934903)\n",
      "('Epoch', 200, ': cost =', 6.553989, 'W =', 0.96347666, 'b =', 0.9215252)\n",
      "('Epoch', 250, ': cost =', 6.5571866, 'W =', 0.96307117, 'b =', 0.9414879)\n",
      "('Epoch', 300, ': cost =', 6.5601783, 'W =', 0.96270615, 'b =', 0.9594561)\n",
      "('Epoch', 350, ': cost =', 6.5629606, 'W =', 0.9623775, 'b =', 0.97563154)\n",
      "('Epoch', 400, ': cost =', 6.565541, 'W =', 0.96208173, 'b =', 0.99019253)\n",
      "('Epoch', 450, ': cost =', 6.567922, 'W =', 0.9618154, 'b =', 1.0032998)\n",
      "('Epoch', 500, ': cost =', 6.570116, 'W =', 0.96157575, 'b =', 1.0150999)\n",
      "('Epoch', 550, ': cost =', 6.572129, 'W =', 0.9613599, 'b =', 1.0257221)\n",
      "('Epoch', 600, ': cost =', 6.5739713, 'W =', 0.9611657, 'b =', 1.0352817)\n",
      "('Epoch', 650, ': cost =', 6.5756574, 'W =', 0.96099097, 'b =', 1.043885)\n",
      "('Epoch', 700, ': cost =', 6.5771966, 'W =', 0.9608336, 'b =', 1.0516336)\n",
      "('Epoch', 750, ': cost =', 6.578597, 'W =', 0.960692, 'b =', 1.0586028)\n",
      "('Epoch', 800, ': cost =', 6.5798717, 'W =', 0.96056443, 'b =', 1.0648812)\n",
      "('Epoch', 850, ': cost =', 6.5810313, 'W =', 0.9604496, 'b =', 1.0705339)\n",
      "('Epoch', 900, ': cost =', 6.582086, 'W =', 0.96034616, 'b =', 1.0756232)\n",
      "('Epoch', 950, ': cost =', 6.58304, 'W =', 0.9602531, 'b =', 1.0802039)\n",
      "('Epoch', 1000, ': cost =', 6.5839047, 'W =', 0.9601695, 'b =', 1.0843226)\n",
      "('Epoch', 1050, ': cost =', 6.5846896, 'W =', 0.9600941, 'b =', 1.0880331)\n",
      "('Epoch', 1100, ': cost =', 6.5853996, 'W =', 0.96002614, 'b =', 1.0913777)\n",
      "('Epoch', 1150, ': cost =', 6.586042, 'W =', 0.959965, 'b =', 1.0943846)\n",
      "('Epoch', 1200, ': cost =', 6.586621, 'W =', 0.95991015, 'b =', 1.0970857)\n",
      "('Epoch', 1250, ': cost =', 6.587145, 'W =', 0.9598607, 'b =', 1.0995214)\n",
      "('Epoch', 1300, ': cost =', 6.5876193, 'W =', 0.9598161, 'b =', 1.101718)\n",
      "('Epoch', 1350, ': cost =', 6.5880456, 'W =', 0.9597761, 'b =', 1.103684)\n",
      "('Epoch', 1400, ': cost =', 6.5884323, 'W =', 0.95974004, 'b =', 1.1054606)\n",
      "('Epoch', 1450, ': cost =', 6.58878, 'W =', 0.9597076, 'b =', 1.1070558)\n",
      "('Epoch', 1500, ': cost =', 6.589097, 'W =', 0.9596781, 'b =', 1.1085069)\n",
      "('Epoch', 1550, ': cost =', 6.5893784, 'W =', 0.95965195, 'b =', 1.1097972)\n",
      "('Epoch', 1600, ': cost =', 6.589637, 'W =', 0.9596281, 'b =', 1.1109726)\n",
      "('Epoch', 1650, ': cost =', 6.5898666, 'W =', 0.9596067, 'b =', 1.1120248)\n"
     ]
    }
   ],
   "source": [
    "'''Change the stopping criterion from number of epochs to difference in cost function.'''\n",
    "with tf.Session() as sess:\n",
    "  merged = tf.summary.merge_all()\n",
    "  writer = tf.summary.FileWriter(\"logs\", sess.graph)\n",
    "  sess.run(init)\n",
    "  itr=1\n",
    "  delta=0.0\n",
    "  while itr:\n",
    "    for (_x, _y) in zip(x, y):\n",
    "      sess.run(optimizer, feed_dict = {X : _x, Y : _y})\n",
    "    c = sess.run(cost, feed_dict = {X : x, Y : y})\n",
    "    if itr % 50 == 0:\n",
    "      print(\"Epoch\", itr, \": cost =\", c, \"W =\", sess.run(W), \"b =\", sess.run(b))\n",
    "    if(abs(c-delta)<=0.000001):\n",
    "      break\n",
    "    delta=c\n",
    "    itr+=1\n",
    "  training_cost = sess.run(cost, feed_dict ={X: x, Y: y})\n",
    "  weight = sess.run(W)\n",
    "  bias = sess.run(b)\n"
   ]
  },
  {
   "cell_type": "code",
   "execution_count": 13,
   "metadata": {
    "colab": {
     "base_uri": "https://localhost:8080/",
     "height": 51
    },
    "colab_type": "code",
    "executionInfo": {
     "elapsed": 41189,
     "status": "ok",
     "timestamp": 1566644846306,
     "user": {
      "displayName": "NAITIK PRAJAPATI",
      "photoUrl": "",
      "userId": "00936705742447887252"
     },
     "user_tz": -330
    },
    "id": "VMJh6KFO4cvN",
    "outputId": "89b3d2da-943f-45e2-f909-a8d8502fa1e2"
   },
   "outputs": [
    {
     "name": "stdout",
     "output_type": "stream",
     "text": [
      "('Training cost =', 6.589971, 'Weight =', 0.95959693, 'bias =', 1.1125052, '\\n')\n"
     ]
    }
   ],
   "source": [
    "predictions = weight * x + bias\n",
    "print(\"Training cost =\", training_cost, \"Weight =\", weight, \"bias =\", bias, '\\n')"
   ]
  },
  {
   "cell_type": "code",
   "execution_count": 14,
   "metadata": {
    "colab": {
     "base_uri": "https://localhost:8080/",
     "height": 54
    },
    "colab_type": "code",
    "executionInfo": {
     "elapsed": 41186,
     "status": "ok",
     "timestamp": 1566644846307,
     "user": {
      "displayName": "NAITIK PRAJAPATI",
      "photoUrl": "",
      "userId": "00936705742447887252"
     },
     "user_tz": -330
    },
    "id": "DneMDYhWEVLV",
    "outputId": "5b6e0d19-660b-4392-bd7a-5429b4e90538"
   },
   "outputs": [
    {
     "data": {
      "text/plain": [
       "'Different alpha (learning_rate) values and corresponding R2 score\\nlearing_rate:0.01  --> R2 score : 0.9561711345220001\\nlearing_rate:0.05  --> R2 score : 0.8467526959221892\\nlearing_rate:0.1   --> R2 score : NaN\\nlearing_rate:0.5   --> R2 score : NaN\\n'"
      ]
     },
     "execution_count": 14,
     "metadata": {},
     "output_type": "execute_result"
    }
   ],
   "source": [
    "'''Different alpha (learning_rate) values and corresponding R2 score\n",
    "learing_rate:0.01  --> R2 score : 0.9561711345220001\n",
    "learing_rate:0.05  --> R2 score : 0.8467526959221892\n",
    "learing_rate:0.1   --> R2 score : NaN\n",
    "learing_rate:0.5   --> R2 score : NaN\n",
    "'''"
   ]
  },
  {
   "cell_type": "code",
   "execution_count": 15,
   "metadata": {
    "colab": {
     "base_uri": "https://localhost:8080/",
     "height": 34
    },
    "colab_type": "code",
    "executionInfo": {
     "elapsed": 41183,
     "status": "ok",
     "timestamp": 1566644846308,
     "user": {
      "displayName": "NAITIK PRAJAPATI",
      "photoUrl": "",
      "userId": "00936705742447887252"
     },
     "user_tz": -330
    },
    "id": "XWHJMX66E0QE",
    "outputId": "bb50d5f9-4892-4dc2-d829-545bc94bd0d6"
   },
   "outputs": [
    {
     "data": {
      "text/plain": [
       "'Perform the Linear Regression on some other dataset.'"
      ]
     },
     "execution_count": 15,
     "metadata": {},
     "output_type": "execute_result"
    }
   ],
   "source": [
    "'''Perform the Linear Regression on some other dataset.'''"
   ]
  },
  {
   "cell_type": "code",
   "execution_count": 16,
   "metadata": {
    "colab": {},
    "colab_type": "code",
    "id": "3XeyGqgeFvze"
   },
   "outputs": [],
   "source": [
    "import numpy as np\n",
    "import pandas as pd\n",
    "import matplotlib.pyplot as plt\n",
    "import seaborn as sns\n",
    "from sklearn import linear_model\n",
    "from sklearn.metrics import r2_score,mean_squared_error\n",
    "from sklearn.model_selection import train_test_split\n",
    "from sklearn import datasets"
   ]
  },
  {
   "cell_type": "code",
   "execution_count": 17,
   "metadata": {
    "colab": {
     "base_uri": "https://localhost:8080/",
     "height": 204
    },
    "colab_type": "code",
    "executionInfo": {
     "elapsed": 42043,
     "status": "ok",
     "timestamp": 1566644847183,
     "user": {
      "displayName": "NAITIK PRAJAPATI",
      "photoUrl": "",
      "userId": "00936705742447887252"
     },
     "user_tz": -330
    },
    "id": "3n9w3Y4EF40G",
    "outputId": "a1495546-7d51-4c2a-edf1-ad66414a2b26"
   },
   "outputs": [
    {
     "data": {
      "text/html": [
       "<div>\n",
       "<style scoped>\n",
       "    .dataframe tbody tr th:only-of-type {\n",
       "        vertical-align: middle;\n",
       "    }\n",
       "\n",
       "    .dataframe tbody tr th {\n",
       "        vertical-align: top;\n",
       "    }\n",
       "\n",
       "    .dataframe thead th {\n",
       "        text-align: right;\n",
       "    }\n",
       "</style>\n",
       "<table border=\"1\" class=\"dataframe\">\n",
       "  <thead>\n",
       "    <tr style=\"text-align: right;\">\n",
       "      <th></th>\n",
       "      <th>CRIM</th>\n",
       "      <th>ZN</th>\n",
       "      <th>INDUS</th>\n",
       "      <th>CHAS</th>\n",
       "      <th>NOX</th>\n",
       "      <th>RM</th>\n",
       "      <th>AGE</th>\n",
       "      <th>DIS</th>\n",
       "      <th>RAD</th>\n",
       "      <th>TAX</th>\n",
       "      <th>PTRATIO</th>\n",
       "      <th>B</th>\n",
       "      <th>LSTAT</th>\n",
       "      <th>PRICE</th>\n",
       "    </tr>\n",
       "  </thead>\n",
       "  <tbody>\n",
       "    <tr>\n",
       "      <th>0</th>\n",
       "      <td>0.00632</td>\n",
       "      <td>18.0</td>\n",
       "      <td>2.31</td>\n",
       "      <td>0.0</td>\n",
       "      <td>0.538</td>\n",
       "      <td>6.575</td>\n",
       "      <td>65.2</td>\n",
       "      <td>4.0900</td>\n",
       "      <td>1.0</td>\n",
       "      <td>296.0</td>\n",
       "      <td>15.3</td>\n",
       "      <td>396.90</td>\n",
       "      <td>4.98</td>\n",
       "      <td>24.0</td>\n",
       "    </tr>\n",
       "    <tr>\n",
       "      <th>1</th>\n",
       "      <td>0.02731</td>\n",
       "      <td>0.0</td>\n",
       "      <td>7.07</td>\n",
       "      <td>0.0</td>\n",
       "      <td>0.469</td>\n",
       "      <td>6.421</td>\n",
       "      <td>78.9</td>\n",
       "      <td>4.9671</td>\n",
       "      <td>2.0</td>\n",
       "      <td>242.0</td>\n",
       "      <td>17.8</td>\n",
       "      <td>396.90</td>\n",
       "      <td>9.14</td>\n",
       "      <td>21.6</td>\n",
       "    </tr>\n",
       "    <tr>\n",
       "      <th>2</th>\n",
       "      <td>0.02729</td>\n",
       "      <td>0.0</td>\n",
       "      <td>7.07</td>\n",
       "      <td>0.0</td>\n",
       "      <td>0.469</td>\n",
       "      <td>7.185</td>\n",
       "      <td>61.1</td>\n",
       "      <td>4.9671</td>\n",
       "      <td>2.0</td>\n",
       "      <td>242.0</td>\n",
       "      <td>17.8</td>\n",
       "      <td>392.83</td>\n",
       "      <td>4.03</td>\n",
       "      <td>34.7</td>\n",
       "    </tr>\n",
       "    <tr>\n",
       "      <th>3</th>\n",
       "      <td>0.03237</td>\n",
       "      <td>0.0</td>\n",
       "      <td>2.18</td>\n",
       "      <td>0.0</td>\n",
       "      <td>0.458</td>\n",
       "      <td>6.998</td>\n",
       "      <td>45.8</td>\n",
       "      <td>6.0622</td>\n",
       "      <td>3.0</td>\n",
       "      <td>222.0</td>\n",
       "      <td>18.7</td>\n",
       "      <td>394.63</td>\n",
       "      <td>2.94</td>\n",
       "      <td>33.4</td>\n",
       "    </tr>\n",
       "    <tr>\n",
       "      <th>4</th>\n",
       "      <td>0.06905</td>\n",
       "      <td>0.0</td>\n",
       "      <td>2.18</td>\n",
       "      <td>0.0</td>\n",
       "      <td>0.458</td>\n",
       "      <td>7.147</td>\n",
       "      <td>54.2</td>\n",
       "      <td>6.0622</td>\n",
       "      <td>3.0</td>\n",
       "      <td>222.0</td>\n",
       "      <td>18.7</td>\n",
       "      <td>396.90</td>\n",
       "      <td>5.33</td>\n",
       "      <td>36.2</td>\n",
       "    </tr>\n",
       "  </tbody>\n",
       "</table>\n",
       "</div>"
      ],
      "text/plain": [
       "      CRIM    ZN  INDUS  CHAS    NOX     RM   AGE     DIS  RAD    TAX  \\\n",
       "0  0.00632  18.0   2.31   0.0  0.538  6.575  65.2  4.0900  1.0  296.0   \n",
       "1  0.02731   0.0   7.07   0.0  0.469  6.421  78.9  4.9671  2.0  242.0   \n",
       "2  0.02729   0.0   7.07   0.0  0.469  7.185  61.1  4.9671  2.0  242.0   \n",
       "3  0.03237   0.0   2.18   0.0  0.458  6.998  45.8  6.0622  3.0  222.0   \n",
       "4  0.06905   0.0   2.18   0.0  0.458  7.147  54.2  6.0622  3.0  222.0   \n",
       "\n",
       "   PTRATIO       B  LSTAT  PRICE  \n",
       "0     15.3  396.90   4.98   24.0  \n",
       "1     17.8  396.90   9.14   21.6  \n",
       "2     17.8  392.83   4.03   34.7  \n",
       "3     18.7  394.63   2.94   33.4  \n",
       "4     18.7  396.90   5.33   36.2  "
      ]
     },
     "execution_count": 17,
     "metadata": {},
     "output_type": "execute_result"
    }
   ],
   "source": [
    "boston = datasets.load_boston()\n",
    "df=pd.DataFrame(boston.data)\n",
    "df.columns=boston.feature_names\n",
    "df['PRICE']=boston.target\n",
    "df.head()"
   ]
  },
  {
   "cell_type": "code",
   "execution_count": 18,
   "metadata": {
    "colab": {
     "base_uri": "https://localhost:8080/",
     "height": 483
    },
    "colab_type": "code",
    "executionInfo": {
     "elapsed": 42037,
     "status": "ok",
     "timestamp": 1566644847185,
     "user": {
      "displayName": "NAITIK PRAJAPATI",
      "photoUrl": "",
      "userId": "00936705742447887252"
     },
     "user_tz": -330
    },
    "id": "7EHzBRTkGeBD",
    "outputId": "82431d76-ab08-458b-af1f-d79d679b12fa"
   },
   "outputs": [
    {
     "data": {
      "text/html": [
       "<div>\n",
       "<style scoped>\n",
       "    .dataframe tbody tr th:only-of-type {\n",
       "        vertical-align: middle;\n",
       "    }\n",
       "\n",
       "    .dataframe tbody tr th {\n",
       "        vertical-align: top;\n",
       "    }\n",
       "\n",
       "    .dataframe thead th {\n",
       "        text-align: right;\n",
       "    }\n",
       "</style>\n",
       "<table border=\"1\" class=\"dataframe\">\n",
       "  <thead>\n",
       "    <tr style=\"text-align: right;\">\n",
       "      <th></th>\n",
       "      <th>CRIM</th>\n",
       "      <th>ZN</th>\n",
       "      <th>INDUS</th>\n",
       "      <th>CHAS</th>\n",
       "      <th>NOX</th>\n",
       "      <th>RM</th>\n",
       "      <th>AGE</th>\n",
       "      <th>DIS</th>\n",
       "      <th>RAD</th>\n",
       "      <th>TAX</th>\n",
       "      <th>PTRATIO</th>\n",
       "      <th>B</th>\n",
       "      <th>LSTAT</th>\n",
       "      <th>PRICE</th>\n",
       "    </tr>\n",
       "  </thead>\n",
       "  <tbody>\n",
       "    <tr>\n",
       "      <th>CRIM</th>\n",
       "      <td>1.00</td>\n",
       "      <td>-0.20</td>\n",
       "      <td>0.41</td>\n",
       "      <td>-0.06</td>\n",
       "      <td>0.42</td>\n",
       "      <td>-0.22</td>\n",
       "      <td>0.35</td>\n",
       "      <td>-0.38</td>\n",
       "      <td>0.63</td>\n",
       "      <td>0.58</td>\n",
       "      <td>0.29</td>\n",
       "      <td>-0.39</td>\n",
       "      <td>0.46</td>\n",
       "      <td>-0.39</td>\n",
       "    </tr>\n",
       "    <tr>\n",
       "      <th>ZN</th>\n",
       "      <td>-0.20</td>\n",
       "      <td>1.00</td>\n",
       "      <td>-0.53</td>\n",
       "      <td>-0.04</td>\n",
       "      <td>-0.52</td>\n",
       "      <td>0.31</td>\n",
       "      <td>-0.57</td>\n",
       "      <td>0.66</td>\n",
       "      <td>-0.31</td>\n",
       "      <td>-0.31</td>\n",
       "      <td>-0.39</td>\n",
       "      <td>0.18</td>\n",
       "      <td>-0.41</td>\n",
       "      <td>0.36</td>\n",
       "    </tr>\n",
       "    <tr>\n",
       "      <th>INDUS</th>\n",
       "      <td>0.41</td>\n",
       "      <td>-0.53</td>\n",
       "      <td>1.00</td>\n",
       "      <td>0.06</td>\n",
       "      <td>0.76</td>\n",
       "      <td>-0.39</td>\n",
       "      <td>0.64</td>\n",
       "      <td>-0.71</td>\n",
       "      <td>0.60</td>\n",
       "      <td>0.72</td>\n",
       "      <td>0.38</td>\n",
       "      <td>-0.36</td>\n",
       "      <td>0.60</td>\n",
       "      <td>-0.48</td>\n",
       "    </tr>\n",
       "    <tr>\n",
       "      <th>CHAS</th>\n",
       "      <td>-0.06</td>\n",
       "      <td>-0.04</td>\n",
       "      <td>0.06</td>\n",
       "      <td>1.00</td>\n",
       "      <td>0.09</td>\n",
       "      <td>0.09</td>\n",
       "      <td>0.09</td>\n",
       "      <td>-0.10</td>\n",
       "      <td>-0.01</td>\n",
       "      <td>-0.04</td>\n",
       "      <td>-0.12</td>\n",
       "      <td>0.05</td>\n",
       "      <td>-0.05</td>\n",
       "      <td>0.18</td>\n",
       "    </tr>\n",
       "    <tr>\n",
       "      <th>NOX</th>\n",
       "      <td>0.42</td>\n",
       "      <td>-0.52</td>\n",
       "      <td>0.76</td>\n",
       "      <td>0.09</td>\n",
       "      <td>1.00</td>\n",
       "      <td>-0.30</td>\n",
       "      <td>0.73</td>\n",
       "      <td>-0.77</td>\n",
       "      <td>0.61</td>\n",
       "      <td>0.67</td>\n",
       "      <td>0.19</td>\n",
       "      <td>-0.38</td>\n",
       "      <td>0.59</td>\n",
       "      <td>-0.43</td>\n",
       "    </tr>\n",
       "    <tr>\n",
       "      <th>RM</th>\n",
       "      <td>-0.22</td>\n",
       "      <td>0.31</td>\n",
       "      <td>-0.39</td>\n",
       "      <td>0.09</td>\n",
       "      <td>-0.30</td>\n",
       "      <td>1.00</td>\n",
       "      <td>-0.24</td>\n",
       "      <td>0.21</td>\n",
       "      <td>-0.21</td>\n",
       "      <td>-0.29</td>\n",
       "      <td>-0.36</td>\n",
       "      <td>0.13</td>\n",
       "      <td>-0.61</td>\n",
       "      <td>0.70</td>\n",
       "    </tr>\n",
       "    <tr>\n",
       "      <th>AGE</th>\n",
       "      <td>0.35</td>\n",
       "      <td>-0.57</td>\n",
       "      <td>0.64</td>\n",
       "      <td>0.09</td>\n",
       "      <td>0.73</td>\n",
       "      <td>-0.24</td>\n",
       "      <td>1.00</td>\n",
       "      <td>-0.75</td>\n",
       "      <td>0.46</td>\n",
       "      <td>0.51</td>\n",
       "      <td>0.26</td>\n",
       "      <td>-0.27</td>\n",
       "      <td>0.60</td>\n",
       "      <td>-0.38</td>\n",
       "    </tr>\n",
       "    <tr>\n",
       "      <th>DIS</th>\n",
       "      <td>-0.38</td>\n",
       "      <td>0.66</td>\n",
       "      <td>-0.71</td>\n",
       "      <td>-0.10</td>\n",
       "      <td>-0.77</td>\n",
       "      <td>0.21</td>\n",
       "      <td>-0.75</td>\n",
       "      <td>1.00</td>\n",
       "      <td>-0.49</td>\n",
       "      <td>-0.53</td>\n",
       "      <td>-0.23</td>\n",
       "      <td>0.29</td>\n",
       "      <td>-0.50</td>\n",
       "      <td>0.25</td>\n",
       "    </tr>\n",
       "    <tr>\n",
       "      <th>RAD</th>\n",
       "      <td>0.63</td>\n",
       "      <td>-0.31</td>\n",
       "      <td>0.60</td>\n",
       "      <td>-0.01</td>\n",
       "      <td>0.61</td>\n",
       "      <td>-0.21</td>\n",
       "      <td>0.46</td>\n",
       "      <td>-0.49</td>\n",
       "      <td>1.00</td>\n",
       "      <td>0.91</td>\n",
       "      <td>0.46</td>\n",
       "      <td>-0.44</td>\n",
       "      <td>0.49</td>\n",
       "      <td>-0.38</td>\n",
       "    </tr>\n",
       "    <tr>\n",
       "      <th>TAX</th>\n",
       "      <td>0.58</td>\n",
       "      <td>-0.31</td>\n",
       "      <td>0.72</td>\n",
       "      <td>-0.04</td>\n",
       "      <td>0.67</td>\n",
       "      <td>-0.29</td>\n",
       "      <td>0.51</td>\n",
       "      <td>-0.53</td>\n",
       "      <td>0.91</td>\n",
       "      <td>1.00</td>\n",
       "      <td>0.46</td>\n",
       "      <td>-0.44</td>\n",
       "      <td>0.54</td>\n",
       "      <td>-0.47</td>\n",
       "    </tr>\n",
       "    <tr>\n",
       "      <th>PTRATIO</th>\n",
       "      <td>0.29</td>\n",
       "      <td>-0.39</td>\n",
       "      <td>0.38</td>\n",
       "      <td>-0.12</td>\n",
       "      <td>0.19</td>\n",
       "      <td>-0.36</td>\n",
       "      <td>0.26</td>\n",
       "      <td>-0.23</td>\n",
       "      <td>0.46</td>\n",
       "      <td>0.46</td>\n",
       "      <td>1.00</td>\n",
       "      <td>-0.18</td>\n",
       "      <td>0.37</td>\n",
       "      <td>-0.51</td>\n",
       "    </tr>\n",
       "    <tr>\n",
       "      <th>B</th>\n",
       "      <td>-0.39</td>\n",
       "      <td>0.18</td>\n",
       "      <td>-0.36</td>\n",
       "      <td>0.05</td>\n",
       "      <td>-0.38</td>\n",
       "      <td>0.13</td>\n",
       "      <td>-0.27</td>\n",
       "      <td>0.29</td>\n",
       "      <td>-0.44</td>\n",
       "      <td>-0.44</td>\n",
       "      <td>-0.18</td>\n",
       "      <td>1.00</td>\n",
       "      <td>-0.37</td>\n",
       "      <td>0.33</td>\n",
       "    </tr>\n",
       "    <tr>\n",
       "      <th>LSTAT</th>\n",
       "      <td>0.46</td>\n",
       "      <td>-0.41</td>\n",
       "      <td>0.60</td>\n",
       "      <td>-0.05</td>\n",
       "      <td>0.59</td>\n",
       "      <td>-0.61</td>\n",
       "      <td>0.60</td>\n",
       "      <td>-0.50</td>\n",
       "      <td>0.49</td>\n",
       "      <td>0.54</td>\n",
       "      <td>0.37</td>\n",
       "      <td>-0.37</td>\n",
       "      <td>1.00</td>\n",
       "      <td>-0.74</td>\n",
       "    </tr>\n",
       "    <tr>\n",
       "      <th>PRICE</th>\n",
       "      <td>-0.39</td>\n",
       "      <td>0.36</td>\n",
       "      <td>-0.48</td>\n",
       "      <td>0.18</td>\n",
       "      <td>-0.43</td>\n",
       "      <td>0.70</td>\n",
       "      <td>-0.38</td>\n",
       "      <td>0.25</td>\n",
       "      <td>-0.38</td>\n",
       "      <td>-0.47</td>\n",
       "      <td>-0.51</td>\n",
       "      <td>0.33</td>\n",
       "      <td>-0.74</td>\n",
       "      <td>1.00</td>\n",
       "    </tr>\n",
       "  </tbody>\n",
       "</table>\n",
       "</div>"
      ],
      "text/plain": [
       "         CRIM    ZN  INDUS  CHAS   NOX    RM   AGE   DIS   RAD   TAX  PTRATIO  \\\n",
       "CRIM     1.00 -0.20   0.41 -0.06  0.42 -0.22  0.35 -0.38  0.63  0.58     0.29   \n",
       "ZN      -0.20  1.00  -0.53 -0.04 -0.52  0.31 -0.57  0.66 -0.31 -0.31    -0.39   \n",
       "INDUS    0.41 -0.53   1.00  0.06  0.76 -0.39  0.64 -0.71  0.60  0.72     0.38   \n",
       "CHAS    -0.06 -0.04   0.06  1.00  0.09  0.09  0.09 -0.10 -0.01 -0.04    -0.12   \n",
       "NOX      0.42 -0.52   0.76  0.09  1.00 -0.30  0.73 -0.77  0.61  0.67     0.19   \n",
       "RM      -0.22  0.31  -0.39  0.09 -0.30  1.00 -0.24  0.21 -0.21 -0.29    -0.36   \n",
       "AGE      0.35 -0.57   0.64  0.09  0.73 -0.24  1.00 -0.75  0.46  0.51     0.26   \n",
       "DIS     -0.38  0.66  -0.71 -0.10 -0.77  0.21 -0.75  1.00 -0.49 -0.53    -0.23   \n",
       "RAD      0.63 -0.31   0.60 -0.01  0.61 -0.21  0.46 -0.49  1.00  0.91     0.46   \n",
       "TAX      0.58 -0.31   0.72 -0.04  0.67 -0.29  0.51 -0.53  0.91  1.00     0.46   \n",
       "PTRATIO  0.29 -0.39   0.38 -0.12  0.19 -0.36  0.26 -0.23  0.46  0.46     1.00   \n",
       "B       -0.39  0.18  -0.36  0.05 -0.38  0.13 -0.27  0.29 -0.44 -0.44    -0.18   \n",
       "LSTAT    0.46 -0.41   0.60 -0.05  0.59 -0.61  0.60 -0.50  0.49  0.54     0.37   \n",
       "PRICE   -0.39  0.36  -0.48  0.18 -0.43  0.70 -0.38  0.25 -0.38 -0.47    -0.51   \n",
       "\n",
       "            B  LSTAT  PRICE  \n",
       "CRIM    -0.39   0.46  -0.39  \n",
       "ZN       0.18  -0.41   0.36  \n",
       "INDUS   -0.36   0.60  -0.48  \n",
       "CHAS     0.05  -0.05   0.18  \n",
       "NOX     -0.38   0.59  -0.43  \n",
       "RM       0.13  -0.61   0.70  \n",
       "AGE     -0.27   0.60  -0.38  \n",
       "DIS      0.29  -0.50   0.25  \n",
       "RAD     -0.44   0.49  -0.38  \n",
       "TAX     -0.44   0.54  -0.47  \n",
       "PTRATIO -0.18   0.37  -0.51  \n",
       "B        1.00  -0.37   0.33  \n",
       "LSTAT   -0.37   1.00  -0.74  \n",
       "PRICE    0.33  -0.74   1.00  "
      ]
     },
     "execution_count": 18,
     "metadata": {},
     "output_type": "execute_result"
    }
   ],
   "source": [
    "correlation_matrix = df.corr().round(2)\n",
    "correlation_matrix\n"
   ]
  },
  {
   "cell_type": "code",
   "execution_count": 19,
   "metadata": {
    "colab": {
     "base_uri": "https://localhost:8080/",
     "height": 281
    },
    "colab_type": "code",
    "executionInfo": {
     "elapsed": 42031,
     "status": "ok",
     "timestamp": 1566644847187,
     "user": {
      "displayName": "NAITIK PRAJAPATI",
      "photoUrl": "",
      "userId": "00936705742447887252"
     },
     "user_tz": -330
    },
    "id": "6k39xTx5Kyho",
    "outputId": "54f14eb3-b212-4b24-d800-07b26057ec8b"
   },
   "outputs": [
    {
     "data": {
      "image/png": "[encoded data removed]",
      "text/plain": [
       "<Figure size 432x288 with 1 Axes>"
      ]
     },
     "metadata": {
      "needs_background": "light"
     },
     "output_type": "display_data"
    }
   ],
   "source": [
    "#sns.heatmap(correlation_matrix)\n",
    "plt.plot(df['RM'], df['PRICE'],'ro', color = 'blue', label ='Original data')\n",
    "plt.title('Linear Regression Result')\n",
    "plt.legend()\n",
    "plt.show()"
   ]
  },
  {
   "cell_type": "code",
   "execution_count": 20,
   "metadata": {
    "colab": {},
    "colab_type": "code",
    "id": "YST7LC1OMWEm"
   },
   "outputs": [],
   "source": [
    "X=df[['RM']]\n",
    "Y=df[['PRICE']]\n",
    "X_train,X_test,Y_train,Y_test=train_test_split(X,Y,test_size=0.2,random_state=5)"
   ]
  },
  {
   "cell_type": "code",
   "execution_count": 21,
   "metadata": {
    "colab": {
     "base_uri": "https://localhost:8080/",
     "height": 34
    },
    "colab_type": "code",
    "executionInfo": {
     "elapsed": 42629,
     "status": "ok",
     "timestamp": 1566644847803,
     "user": {
      "displayName": "NAITIK PRAJAPATI",
      "photoUrl": "",
      "userId": "00936705742447887252"
     },
     "user_tz": -330
    },
    "id": "MB_HhXqYNLD7",
    "outputId": "2122a949-e440-4dfa-e31f-dcace21be984"
   },
   "outputs": [
    {
     "data": {
      "text/plain": [
       "LinearRegression(copy_X=True, fit_intercept=True, n_jobs=None,\n",
       "         normalize=False)"
      ]
     },
     "execution_count": 21,
     "metadata": {},
     "output_type": "execute_result"
    }
   ],
   "source": [
    "regr = linear_model.LinearRegression()\n",
    "regr.fit(X_train, Y_train)"
   ]
  },
  {
   "cell_type": "code",
   "execution_count": 22,
   "metadata": {
    "colab": {
     "base_uri": "https://localhost:8080/",
     "height": 102
    },
    "colab_type": "code",
    "executionInfo": {
     "elapsed": 42623,
     "status": "ok",
     "timestamp": 1566644847804,
     "user": {
      "displayName": "NAITIK PRAJAPATI",
      "photoUrl": "",
      "userId": "00936705742447887252"
     },
     "user_tz": -330
    },
    "id": "ibD3exuyRI-t",
    "outputId": "55ac169d-575b-4ad8-e8c5-733c9c5af5c1"
   },
   "outputs": [
    {
     "name": "stdout",
     "output_type": "stream",
     "text": [
      "The model performance for training set\n",
      "--------------------------------------\n",
      "R2 score is 0.693839940155\n",
      "\n",
      "\n"
     ]
    }
   ],
   "source": [
    "Y_predict = regr.predict(X_test)\n",
    "r2 = r2_score(Y_test, Y_predict)\n",
    "print(\"The model performance for training set\")\n",
    "print(\"--------------------------------------\")\n",
    "print('R2 score is {}'.format(r2))\n",
    "print(\"\\n\")"
   ]
  },
  {
   "cell_type": "code",
   "execution_count": 23,
   "metadata": {
    "colab": {},
    "colab_type": "code",
    "id": "fZXkTqA_TOdj"
   },
   "outputs": [],
   "source": [
    "X=df[['LSTAT']]\n",
    "Y=df[['PRICE']]\n",
    "X_train,X_test,Y_train,Y_test=train_test_split(X,Y,test_size=0.2,random_state=5)"
   ]
  },
  {
   "cell_type": "code",
   "execution_count": 24,
   "metadata": {
    "colab": {
     "base_uri": "https://localhost:8080/",
     "height": 34
    },
    "colab_type": "code",
    "executionInfo": {
     "elapsed": 42612,
     "status": "ok",
     "timestamp": 1566644847806,
     "user": {
      "displayName": "NAITIK PRAJAPATI",
      "photoUrl": "",
      "userId": "00936705742447887252"
     },
     "user_tz": -330
    },
    "id": "titCxKTeTS8c",
    "outputId": "036d0ab7-1a7f-4943-8418-eaa9aa4e3925"
   },
   "outputs": [
    {
     "data": {
      "text/plain": [
       "LinearRegression(copy_X=True, fit_intercept=True, n_jobs=None,\n",
       "         normalize=False)"
      ]
     },
     "execution_count": 24,
     "metadata": {},
     "output_type": "execute_result"
    }
   ],
   "source": [
    "regr = linear_model.LinearRegression()\n",
    "regr.fit(X_train, Y_train)"
   ]
  },
  {
   "cell_type": "code",
   "execution_count": 25,
   "metadata": {
    "colab": {
     "base_uri": "https://localhost:8080/",
     "height": 102
    },
    "colab_type": "code",
    "executionInfo": {
     "elapsed": 42605,
     "status": "ok",
     "timestamp": 1566644847807,
     "user": {
      "displayName": "NAITIK PRAJAPATI",
      "photoUrl": "",
      "userId": "00936705742447887252"
     },
     "user_tz": -330
    },
    "id": "PUb6ZXSmTUIm",
    "outputId": "7977f9f3-aa92-4f7c-fdd7-6ed82863e938"
   },
   "outputs": [
    {
     "name": "stdout",
     "output_type": "stream",
     "text": [
      "The model performance for training set\n",
      "--------------------------------------\n",
      "R2 score is 0.50415237289\n",
      "\n",
      "\n"
     ]
    }
   ],
   "source": [
    "Y_predict = regr.predict(X_test)\n",
    "r2 = r2_score(Y_test, Y_predict)\n",
    "print(\"The model performance for training set\")\n",
    "print(\"--------------------------------------\")\n",
    "print('R2 score is {}'.format(r2))\n",
    "print(\"\\n\")"
   ]
  },
  {
   "cell_type": "code",
   "execution_count": null,
   "metadata": {},
   "outputs": [],
   "source": []
  }
 ],
 "metadata": {
  "colab": {
   "collapsed_sections": [],
   "name": "LAB5.ipynb",
   "provenance": [],
   "version": "0.3.2"
  },
  "kernelspec": {
   "display_name": "Python 2",
   "language": "python",
   "name": "python2"
  },
  "language_info": {
   "codemirror_mode": {
    "name": "ipython",
    "version": 2
   },
   "file_extension": ".py",
   "mimetype": "text/x-python",
   "name": "python",
   "nbconvert_exporter": "python",
   "pygments_lexer": "ipython2",
   "version": "2.7.15+"
  }
 },
 "nbformat": 4,
 "nbformat_minor": 1
}
